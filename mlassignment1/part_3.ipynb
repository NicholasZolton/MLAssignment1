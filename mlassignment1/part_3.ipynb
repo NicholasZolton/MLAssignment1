{
 "cells": [
  {
   "cell_type": "markdown",
   "metadata": {},
   "source": [
    "# Overview\n",
    "\n",
    "In this file I will be handling part 3 of the assignment. This will involve the following steps:\n",
    "- Splitting the data into training and testing sets"
   ]
  },
  {
   "cell_type": "code",
   "execution_count": 1,
   "metadata": {},
   "outputs": [],
   "source": [
    "import pandas as pd\n",
    "from sklearn.model_selection import train_test_split"
   ]
  },
  {
   "cell_type": "code",
   "execution_count": 2,
   "metadata": {},
   "outputs": [
    {
     "name": "stdout",
     "output_type": "stream",
     "text": [
      "       fixed acidity  volatile acidity  citric acid     chlorides  \\\n",
      "count   1.359000e+03      1.359000e+03  1359.000000  1.359000e+03   \n",
      "mean   -6.064971e-16      1.202537e-16     0.000000  4.182739e-17   \n",
      "std     1.000368e+00      1.000368e+00     1.000368  1.000368e+00   \n",
      "min    -2.137008e+00     -2.238023e+00    -1.393258 -1.542254e+00   \n",
      "25%    -6.972071e-01     -7.623226e-01    -0.932817 -3.671819e-01   \n",
      "50%    -2.364707e-01     -5.180013e-02    -0.063094 -1.848432e-01   \n",
      "75%     5.122260e-01      6.040667e-01     0.806629  5.827504e-02   \n",
      "max     4.370894e+00      5.741690e+00     3.722758  1.059340e+01   \n",
      "\n",
      "       total sulfur dioxide       density     sulphates       alcohol  \\\n",
      "count          1.359000e+03  1.359000e+03  1.359000e+03  1.359000e+03   \n",
      "mean           5.228423e-17  5.286982e-14 -5.542129e-16  1.463959e-16   \n",
      "std            1.000368e+00  1.000368e+00  1.000368e+00  1.000368e+00   \n",
      "min           -1.222457e+00 -3.553604e+00 -1.926712e+00 -1.878873e+00   \n",
      "25%           -7.433672e-01 -5.935822e-01 -6.371766e-01 -8.619244e-01   \n",
      "50%           -2.642772e-01 -4.789431e-03 -2.268699e-01 -2.147753e-01   \n",
      "75%            4.843008e-01  5.947087e-01  4.178978e-01  6.172735e-01   \n",
      "max            7.251446e+00  3.736721e+00  7.862034e+00  4.130369e+00   \n",
      "\n",
      "            quality  \n",
      "count  1.359000e+03  \n",
      "mean   5.019286e-16  \n",
      "std    1.000368e+00  \n",
      "min   -3.186363e+00  \n",
      "25%   -7.570404e-01  \n",
      "50%    4.576206e-01  \n",
      "75%    4.576206e-01  \n",
      "max    2.886943e+00  \n"
     ]
    }
   ],
   "source": [
    "# get the data from the csv file\n",
    "data = pd.read_csv('https://raw.githubusercontent.com/NicholasZolton/MLAssignment1/main/data/winequality-red-preprocessed.csv')\n",
    "print(data.describe())"
   ]
  },
  {
   "cell_type": "code",
   "execution_count": 3,
   "metadata": {},
   "outputs": [
    {
     "name": "stdout",
     "output_type": "stream",
     "text": [
      "Splitting data into training and testing data...\n"
     ]
    }
   ],
   "source": [
    "# now we need to split the data into training and testing data (80% training, 20% testing)\n",
    "print('Splitting data into training and testing data...')\n",
    "train, test = train_test_split(data, test_size=0.2)"
   ]
  },
  {
   "cell_type": "code",
   "execution_count": 6,
   "metadata": {},
   "outputs": [
    {
     "name": "stdout",
     "output_type": "stream",
     "text": [
      "Training data:\n",
      "       fixed acidity  volatile acidity  citric acid    chlorides  \\\n",
      "count    1087.000000       1087.000000  1087.000000  1087.000000   \n",
      "mean        0.031462         -0.041065     0.025013     0.006218   \n",
      "std         1.000704          0.988755     0.986668     1.017946   \n",
      "min        -2.137008         -2.238023    -1.393258    -1.542254   \n",
      "25%        -0.639615         -0.762323    -0.881656    -0.367182   \n",
      "50%        -0.178879         -0.106456    -0.063094    -0.164583   \n",
      "75%         0.569818          0.576739     0.806629     0.048145   \n",
      "max         4.370894          5.741690     3.722758    10.593400   \n",
      "\n",
      "       total sulfur dioxide      density    sulphates      alcohol  \\\n",
      "count           1087.000000  1087.000000  1087.000000  1087.000000   \n",
      "mean              -0.011923     0.014100     0.007106     0.024358   \n",
      "std                1.002378     1.007201     0.977281     1.000353   \n",
      "min               -1.222457    -3.553604    -1.692251    -1.878873   \n",
      "25%               -0.743367    -0.593582    -0.637177    -0.861924   \n",
      "50%               -0.294220    -0.004789    -0.226870    -0.214775   \n",
      "75%                0.424415     0.624148     0.417898     0.709723   \n",
      "max                7.251446     3.736721     7.862034     4.130369   \n",
      "\n",
      "           quality  \n",
      "count  1087.000000  \n",
      "mean      0.016230  \n",
      "std       1.015765  \n",
      "min      -3.186363  \n",
      "25%      -0.757040  \n",
      "50%       0.457621  \n",
      "75%       0.457621  \n",
      "max       2.886943  \n"
     ]
    }
   ],
   "source": [
    "# print the training data\n",
    "print('Training data:')\n",
    "print(train.describe())"
   ]
  },
  {
   "cell_type": "code",
   "execution_count": 5,
   "metadata": {},
   "outputs": [
    {
     "name": "stdout",
     "output_type": "stream",
     "text": [
      "Testing data:\n",
      "       fixed acidity  volatile acidity  citric acid   chlorides  \\\n",
      "count     272.000000        272.000000   272.000000  272.000000   \n",
      "mean       -0.125733          0.164109    -0.099959   -0.024850   \n",
      "std         0.990909          1.031119     1.049276    0.928158   \n",
      "min        -1.964232         -1.910090    -1.393258   -1.096537   \n",
      "25%        -0.812391         -0.653011    -1.086297   -0.387442   \n",
      "50%        -0.322859          0.166822    -0.242154   -0.215233   \n",
      "75%         0.339450          0.740706     0.704309    0.063340   \n",
      "max         3.161461          3.555468     2.341434    6.379350   \n",
      "\n",
      "       total sulfur dioxide     density   sulphates     alcohol     quality  \n",
      "count            272.000000  272.000000  272.000000  272.000000  272.000000  \n",
      "mean               0.047649   -0.056348   -0.028397   -0.097344   -0.064862  \n",
      "std                0.992699    0.972354    1.089216    0.996322    0.935280  \n",
      "min               -1.192514   -3.141449   -1.926712   -1.509074   -3.186363  \n",
      "25%               -0.743367   -0.633727   -0.695792   -0.861924   -0.757040  \n",
      "50%               -0.204391   -0.036905   -0.285485   -0.399675    0.457621  \n",
      "75%                0.551673    0.476950    0.359283    0.432374    0.457621  \n",
      "max                2.909694    3.056933    7.744803    3.298320    2.886943  \n"
     ]
    }
   ],
   "source": [
    "# print the testing data\n",
    "print('Testing data:')\n",
    "print(test.describe())"
   ]
  },
  {
   "cell_type": "code",
   "execution_count": 7,
   "metadata": {},
   "outputs": [
    {
     "name": "stdout",
     "output_type": "stream",
     "text": [
      "Saving training data to c:\\Users\\Nicholas\\Documents\\GitHub\\MLAssignment1\\mlassignment1/../data/train/winequality-red-training.csv...\n",
      "Saving testing data to c:\\Users\\Nicholas\\Documents\\GitHub\\MLAssignment1\\mlassignment1/../data/test/winequality-red-testing.csv...\n"
     ]
    }
   ],
   "source": [
    "import os\n",
    "# save the training and testing data to csv files (uncomment to_csv lines to save)\n",
    "train_path = os.getcwd() + '/../data/train/winequality-red-training.csv'\n",
    "test_path = os.getcwd() + '/../data/test/winequality-red-testing.csv'\n",
    "\n",
    "print('Saving training data to ' + train_path + '...')\n",
    "# train.to_csv(train_path, index=False)\n",
    "\n",
    "print('Saving testing data to ' + test_path + '...')\n",
    "# test.to_csv(test_path, index=False)"
   ]
  }
 ],
 "metadata": {
  "kernelspec": {
   "display_name": "mlassignment1-fBurp8yN-py3.10",
   "language": "python",
   "name": "python3"
  },
  "language_info": {
   "codemirror_mode": {
    "name": "ipython",
    "version": 3
   },
   "file_extension": ".py",
   "mimetype": "text/x-python",
   "name": "python",
   "nbconvert_exporter": "python",
   "pygments_lexer": "ipython3",
   "version": "3.10.6"
  }
 },
 "nbformat": 4,
 "nbformat_minor": 2
}
